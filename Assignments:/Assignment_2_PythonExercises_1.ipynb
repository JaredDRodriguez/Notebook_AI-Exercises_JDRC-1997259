{
  "nbformat": 4,
  "nbformat_minor": 0,
  "metadata": {
    "colab": {
      "provenance": [],
      "authorship_tag": "ABX9TyNpIQQu9LfoiiMu1GRRQXpt",
      "include_colab_link": true
    },
    "kernelspec": {
      "name": "python3",
      "display_name": "Python 3"
    },
    "language_info": {
      "name": "python"
    }
  },
  "cells": [
    {
      "cell_type": "markdown",
      "metadata": {
        "id": "view-in-github",
        "colab_type": "text"
      },
      "source": [
        "<a href=\"https://colab.research.google.com/github/JaredDRodriguez/Notebook_AI-Exercises_JDRC-1997259/blob/main/Assignment_2_PythonExercises_1.ipynb\" target=\"_parent\"><img src=\"https://colab.research.google.com/assets/colab-badge.svg\" alt=\"Open In Colab\"/></a>"
      ]
    },
    {
      "cell_type": "code",
      "source": [
        "# Jared Damian Rodriguez Castañon\n",
        "#Id: 1997259\n",
        "# Class day: Tuesday\n",
        "# Hour: N4-N6\n",
        "\n",
        "import random\n",
        "\n",
        "def hangman():\n",
        "    # List of words for the game\n",
        "    word_list = ['stitch', 'pato', 'onepiece', 'marvel', 'gravityfalls','Undertale']\n",
        "    # List of words in the game\n",
        "    word = random.choice(word_list)\n",
        "    # Create a list to keep the letters guessed\n",
        "    guessed_letters = set()\n",
        "    # Maximum number of attempts\n",
        "    max_attempts = 5\n",
        "    attempts = 0\n",
        "\n",
        "    print(\"Welcome to the game of Hangman!... and to your doom MUAHAHAHA\")\n",
        "\n",
        "    while attempts < max_attempts:\n",
        "        # Displays the letters guessed so far\n",
        "        display_word = ''.join([letter if letter in guessed_letters else '_' for letter in word])\n",
        "        print(\"WORD:\", ' '.join(display_word))\n",
        "\n",
        "        # Verifica si el jugador ha ganado\n",
        "        if '_' not in display_word:\n",
        "            print(\"Congratulations, you've won... for now, play again and try your luck!\")\n",
        "            break\n",
        "\n",
        "        # Requests a letter from the player\n",
        "        guess = input(\"Guess a letter if you dare: \").lower()\n",
        "\n",
        "        # Checks if the letter has already been guessed\n",
        "        if guess in guessed_letters:\n",
        "            print(\"You guessed that letter. i am a villain but not a monster try another letter.\")\n",
        "            continue\n",
        "\n",
        "        # Adds the letter to the guessed letters\n",
        "        guessed_letters.add(guess)\n",
        "\n",
        "        # Check if the letter is in the word\n",
        "        if guess in word:\n",
        "            print(\"You're doing great, stop doing it!\")\n",
        "        else:\n",
        "            print(\"that letter is not in the word, excellent keep it up!.\")\n",
        "            attempts += 1\n",
        "\n",
        "        # Displays remaining attempts\n",
        "        print(f\"be careful you only haves: {max_attempts - attempts}\")\n",
        "\n",
        "    # Final message if you run out of attempts\n",
        "    if attempts == max_attempts:\n",
        "        print(f\"Excellent you lost!, Too bad the word was: {word}\")\n",
        "\n",
        "# Run the game\n",
        "hangman()"
      ],
      "metadata": {
        "colab": {
          "base_uri": "https://localhost:8080/"
        },
        "id": "4nIXDY7CAcQ8",
        "outputId": "3b47bb22-29e7-4ff0-8230-9798c3ce54f3"
      },
      "execution_count": 24,
      "outputs": [
        {
          "output_type": "stream",
          "name": "stdout",
          "text": [
            "Welcome to the game of Hangman!... and to your doom MUAHAHAHA\n",
            "WORD: _ _ _ _\n",
            "Guess a letter if you dare: i\n",
            "that letter is not in the word, excellent keep it up!.\n",
            "be careful you only haves: 4\n",
            "WORD: _ _ _ _\n",
            "Guess a letter if you dare: a\n",
            "that letter is not in the word, excellent keep it up!.\n",
            "be careful you only haves: 3\n",
            "WORD: _ _ _ _\n",
            "Guess a letter if you dare: l\n",
            "that letter is not in the word, excellent keep it up!.\n",
            "be careful you only haves: 2\n",
            "WORD: _ _ _ _\n",
            "Guess a letter if you dare: p\n",
            "You're doing great, stop doing it!\n",
            "be careful you only haves: 2\n",
            "WORD: _ _ p _\n",
            "Guess a letter if you dare: d\n",
            "that letter is not in the word, excellent keep it up!.\n",
            "be careful you only haves: 1\n",
            "WORD: _ _ p _\n",
            "Guess a letter if you dare: a\n",
            "You guessed that letter. i am a villain but not a monster try another letter.\n",
            "WORD: _ _ p _\n",
            "Guess a letter if you dare: o\n",
            "You're doing great, stop doing it!\n",
            "be careful you only haves: 1\n",
            "WORD: _ o p _\n",
            "Guess a letter if you dare: e\n",
            "You're doing great, stop doing it!\n",
            "be careful you only haves: 1\n",
            "WORD: _ o p e\n",
            "Guess a letter if you dare: h\n",
            "that letter is not in the word, excellent keep it up!.\n",
            "be careful you only haves: 0\n",
            "Excellent you lost!, Too bad the word was: Hope\n"
          ]
        }
      ]
    },
    {
      "cell_type": "code",
      "source": [
        "# Jared Damian Rodriguez Castañon\n",
        "#Id: 1997259\n",
        "# Class day: Tuesday\n",
        "# Hour: N4-N6\n",
        "\n",
        "import random\n",
        "\n",
        "def guess_the_number():\n",
        "    # Generates a random number between 1 and 100\n",
        "    target_number = random.randint(1, 100)\n",
        "    attempts = 0\n",
        "\n",
        "    print(\"Welcome, you have been selected to play the Guess the Number game, good luck and choose wisely!\")\n",
        "    print(\"The rules are simple, I have selected a number between 1 and 100. You may think it will be difficult but don't worry, I will give you hints so you don't stress and make a hundred attempts, good luck!\")\n",
        "\n",
        "    while True:\n",
        "        try:\n",
        "            # Asks the user to guess a number\n",
        "            guess = int(input(\"go ahead, write a number, maybe it is the right one: \"))\n",
        "            attempts += 1\n",
        "\n",
        "            # Check if the riddle is correct\n",
        "            if guess < target_number:\n",
        "                print(\"You almost hit it, try to up the bet a little more. Try again.\")\n",
        "            elif guess > target_number:\n",
        "                print(\"WOW, I think you overdid it, try to lower the stakes a little bit. You're almost there..\")\n",
        "            else:\n",
        "                print(f\"Congratulations! You have managed to guess the number but it is a pity that in {attempts} attempts. better try again and now try to get less.\")\n",
        "                break\n",
        "\n",
        "        except ValueError:\n",
        "            print(\"Hey I understand this is a game but take it seriously please enter a valid number.\")\n",
        "\n",
        "# Run the game\n",
        "guess_the_number()"
      ],
      "metadata": {
        "colab": {
          "base_uri": "https://localhost:8080/"
        },
        "id": "BQMhOBGvFTCA",
        "outputId": "79d4323a-4159-4385-e694-0d5e0f9b4ac4"
      },
      "execution_count": 26,
      "outputs": [
        {
          "output_type": "stream",
          "name": "stdout",
          "text": [
            "Welcome, you have been selected to play the Guess the Number game, good luck and choose wisely!\n",
            "The rules are simple, I have selected a number between 1 and 100. You may think it will be difficult but don't worry, I will give you hints so you don't stress and make a hundred attempts, good luck!\n",
            "go ahead, write a number, maybe it is the right one: 2\n",
            "You almost hit it, try to up the bet a little more. Try again.\n",
            "go ahead, write a number, maybe it is the right one: 100\n",
            "WOW, I think you overdid it, try to lower the stakes a little bit. You're almost there..\n",
            "go ahead, write a number, maybe it is the right one: 50\n",
            "You almost hit it, try to up the bet a little more. Try again.\n",
            "go ahead, write a number, maybe it is the right one: 80\n",
            "WOW, I think you overdid it, try to lower the stakes a little bit. You're almost there..\n",
            "go ahead, write a number, maybe it is the right one: 70\n",
            "You almost hit it, try to up the bet a little more. Try again.\n",
            "go ahead, write a number, maybe it is the right one: 75\n",
            "You almost hit it, try to up the bet a little more. Try again.\n",
            "go ahead, write a number, maybe it is the right one: 79\n",
            "WOW, I think you overdid it, try to lower the stakes a little bit. You're almost there..\n",
            "go ahead, write a number, maybe it is the right one: 76\n",
            "You almost hit it, try to up the bet a little more. Try again.\n",
            "go ahead, write a number, maybe it is the right one: 77\n",
            "Congratulations! You have managed to guess the number but it is a pity that in 9 attempts. better try again and now try to get less.\n"
          ]
        }
      ]
    },
    {
      "cell_type": "code",
      "source": [
        "# Jared Damian Rodriguez Castañon\n",
        "#Id: 1997259\n",
        "# Class day: Tuesday\n",
        "# Hour: N4-N6\n",
        "\n",
        "import pandas as pd\n",
        "\n",
        "# Function named analyze_texto to analyze text\n",
        "def analyze_text(file_path):\n",
        "    try:\n",
        "        #cCommand to open the 'text_1.txt 'file and read its content\n",
        "        file = open(file_path, 'r')\n",
        "        text = file.read()\n",
        "        file.close()\n",
        "    except:\n",
        "        print(\"File is not found.\")\n",
        "        return\n",
        "\n",
        "    # Count words\n",
        "    words = text.split()\n",
        "    total_words = len(words)\n",
        "\n",
        "    # Count sentences\n",
        "    sentences = text.split('.')\n",
        "    total_sentences = len(sentences)\n",
        "\n",
        "    # Count paragraphs\n",
        "    paragraphs = text.split('\\n\\n')\n",
        "    total_paragraphs = len(paragraphs)\n",
        "\n",
        "    # Calculate average word length\n",
        "    average_length = sum(len(word) for word in words) / total_words\n",
        "\n",
        "    # Most common words\n",
        "    word_series = pd.Series(words)\n",
        "    common_words = word_series.value_counts().head(5)\n",
        "\n",
        "\n",
        "    print(\"Total words:\", total_words)\n",
        "    print(\"Total sentences:\", total_sentences)\n",
        "    print(\"Total paragraphs:\", total_paragraphs)\n",
        "    print(\"Average word length:\", round(average_length, 2))\n",
        "    print(\"Most common words:\", common_words.to_dict())\n",
        "\n",
        "file_path = 'text_1.txt'\n",
        "\n",
        "analyze_text(file_path)\n"
      ],
      "metadata": {
        "colab": {
          "base_uri": "https://localhost:8080/"
        },
        "id": "2Lva3LptKVF-",
        "outputId": "da7900fc-2544-4b19-e1ad-3b6078055692"
      },
      "execution_count": 28,
      "outputs": [
        {
          "output_type": "stream",
          "name": "stdout",
          "text": [
            "Total words: 213\n",
            "Total sentences: 13\n",
            "Total paragraphs: 3\n",
            "Average word length: 4.23\n",
            "Most common words: {'de': 9, 'la': 9, 'que': 8, 'a': 8, 'no': 7}\n"
          ]
        }
      ]
    }
  ]
}